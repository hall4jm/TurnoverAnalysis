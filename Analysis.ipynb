{
 "cells": [
  {
   "cell_type": "code",
   "execution_count": 20,
   "metadata": {},
   "outputs": [],
   "source": [
    "import pandas as pd\n",
    "\n",
    "#Read emmployee data\n",
    "df = pd.read_csv('data/employee_churn_data.csv')"
   ]
  },
  {
   "cell_type": "markdown",
   "metadata": {},
   "source": [
    "## Executive Summary\n",
    "\n",
    "This analysis "
   ]
  },
  {
   "cell_type": "markdown",
   "metadata": {},
   "source": [
    "## Introduction"
   ]
  },
  {
   "cell_type": "markdown",
   "metadata": {},
   "source": [
    "## Preparing and Cleaning\n"
   ]
  },
  {
   "cell_type": "code",
   "execution_count": 21,
   "metadata": {},
   "outputs": [
    {
     "data": {
      "text/html": [
       "<div>\n",
       "<style scoped>\n",
       "    .dataframe tbody tr th:only-of-type {\n",
       "        vertical-align: middle;\n",
       "    }\n",
       "\n",
       "    .dataframe tbody tr th {\n",
       "        vertical-align: top;\n",
       "    }\n",
       "\n",
       "    .dataframe thead th {\n",
       "        text-align: right;\n",
       "    }\n",
       "</style>\n",
       "<table border=\"1\" class=\"dataframe\">\n",
       "  <thead>\n",
       "    <tr style=\"text-align: right;\">\n",
       "      <th></th>\n",
       "      <th>department</th>\n",
       "      <th>promoted</th>\n",
       "      <th>review</th>\n",
       "      <th>projects</th>\n",
       "      <th>salary</th>\n",
       "      <th>tenure</th>\n",
       "      <th>satisfaction</th>\n",
       "      <th>bonus</th>\n",
       "      <th>avg_hrs_month</th>\n",
       "      <th>left</th>\n",
       "    </tr>\n",
       "  </thead>\n",
       "  <tbody>\n",
       "    <tr>\n",
       "      <th>0</th>\n",
       "      <td>operations</td>\n",
       "      <td>0</td>\n",
       "      <td>0.577569</td>\n",
       "      <td>3</td>\n",
       "      <td>low</td>\n",
       "      <td>5.0</td>\n",
       "      <td>0.626759</td>\n",
       "      <td>0</td>\n",
       "      <td>180.866070</td>\n",
       "      <td>no</td>\n",
       "    </tr>\n",
       "    <tr>\n",
       "      <th>1</th>\n",
       "      <td>operations</td>\n",
       "      <td>0</td>\n",
       "      <td>0.751900</td>\n",
       "      <td>3</td>\n",
       "      <td>medium</td>\n",
       "      <td>6.0</td>\n",
       "      <td>0.443679</td>\n",
       "      <td>0</td>\n",
       "      <td>182.708149</td>\n",
       "      <td>no</td>\n",
       "    </tr>\n",
       "    <tr>\n",
       "      <th>2</th>\n",
       "      <td>support</td>\n",
       "      <td>0</td>\n",
       "      <td>0.722548</td>\n",
       "      <td>3</td>\n",
       "      <td>medium</td>\n",
       "      <td>6.0</td>\n",
       "      <td>0.446823</td>\n",
       "      <td>0</td>\n",
       "      <td>184.416084</td>\n",
       "      <td>no</td>\n",
       "    </tr>\n",
       "    <tr>\n",
       "      <th>3</th>\n",
       "      <td>logistics</td>\n",
       "      <td>0</td>\n",
       "      <td>0.675158</td>\n",
       "      <td>4</td>\n",
       "      <td>high</td>\n",
       "      <td>8.0</td>\n",
       "      <td>0.440139</td>\n",
       "      <td>0</td>\n",
       "      <td>188.707545</td>\n",
       "      <td>no</td>\n",
       "    </tr>\n",
       "    <tr>\n",
       "      <th>4</th>\n",
       "      <td>sales</td>\n",
       "      <td>0</td>\n",
       "      <td>0.676203</td>\n",
       "      <td>3</td>\n",
       "      <td>high</td>\n",
       "      <td>5.0</td>\n",
       "      <td>0.577607</td>\n",
       "      <td>1</td>\n",
       "      <td>179.821083</td>\n",
       "      <td>no</td>\n",
       "    </tr>\n",
       "  </tbody>\n",
       "</table>\n",
       "</div>"
      ],
      "text/plain": [
       "   department  promoted    review  projects  salary  tenure  satisfaction  \\\n",
       "0  operations         0  0.577569         3     low     5.0      0.626759   \n",
       "1  operations         0  0.751900         3  medium     6.0      0.443679   \n",
       "2     support         0  0.722548         3  medium     6.0      0.446823   \n",
       "3   logistics         0  0.675158         4    high     8.0      0.440139   \n",
       "4       sales         0  0.676203         3    high     5.0      0.577607   \n",
       "\n",
       "   bonus  avg_hrs_month left  \n",
       "0      0     180.866070   no  \n",
       "1      0     182.708149   no  \n",
       "2      0     184.416084   no  \n",
       "3      0     188.707545   no  \n",
       "4      1     179.821083   no  "
      ]
     },
     "execution_count": 21,
     "metadata": {},
     "output_type": "execute_result"
    }
   ],
   "source": [
    "df.head()"
   ]
  },
  {
   "cell_type": "code",
   "execution_count": 22,
   "metadata": {},
   "outputs": [
    {
     "data": {
      "text/html": [
       "<div>\n",
       "<style scoped>\n",
       "    .dataframe tbody tr th:only-of-type {\n",
       "        vertical-align: middle;\n",
       "    }\n",
       "\n",
       "    .dataframe tbody tr th {\n",
       "        vertical-align: top;\n",
       "    }\n",
       "\n",
       "    .dataframe thead th {\n",
       "        text-align: right;\n",
       "    }\n",
       "</style>\n",
       "<table border=\"1\" class=\"dataframe\">\n",
       "  <thead>\n",
       "    <tr style=\"text-align: right;\">\n",
       "      <th></th>\n",
       "      <th>promoted</th>\n",
       "      <th>review</th>\n",
       "      <th>projects</th>\n",
       "      <th>tenure</th>\n",
       "      <th>satisfaction</th>\n",
       "      <th>bonus</th>\n",
       "      <th>avg_hrs_month</th>\n",
       "    </tr>\n",
       "  </thead>\n",
       "  <tbody>\n",
       "    <tr>\n",
       "      <th>count</th>\n",
       "      <td>9540.000000</td>\n",
       "      <td>9540.000000</td>\n",
       "      <td>9540.000000</td>\n",
       "      <td>9540.000000</td>\n",
       "      <td>9540.000000</td>\n",
       "      <td>9540.000000</td>\n",
       "      <td>9540.000000</td>\n",
       "    </tr>\n",
       "    <tr>\n",
       "      <th>mean</th>\n",
       "      <td>0.030294</td>\n",
       "      <td>0.651826</td>\n",
       "      <td>3.274843</td>\n",
       "      <td>6.556184</td>\n",
       "      <td>0.504645</td>\n",
       "      <td>0.212055</td>\n",
       "      <td>184.661571</td>\n",
       "    </tr>\n",
       "    <tr>\n",
       "      <th>std</th>\n",
       "      <td>0.171403</td>\n",
       "      <td>0.085307</td>\n",
       "      <td>0.579136</td>\n",
       "      <td>1.415432</td>\n",
       "      <td>0.158555</td>\n",
       "      <td>0.408785</td>\n",
       "      <td>4.144831</td>\n",
       "    </tr>\n",
       "    <tr>\n",
       "      <th>min</th>\n",
       "      <td>0.000000</td>\n",
       "      <td>0.310000</td>\n",
       "      <td>2.000000</td>\n",
       "      <td>2.000000</td>\n",
       "      <td>0.000000</td>\n",
       "      <td>0.000000</td>\n",
       "      <td>171.374060</td>\n",
       "    </tr>\n",
       "    <tr>\n",
       "      <th>25%</th>\n",
       "      <td>0.000000</td>\n",
       "      <td>0.592884</td>\n",
       "      <td>3.000000</td>\n",
       "      <td>5.000000</td>\n",
       "      <td>0.386801</td>\n",
       "      <td>0.000000</td>\n",
       "      <td>181.472085</td>\n",
       "    </tr>\n",
       "    <tr>\n",
       "      <th>50%</th>\n",
       "      <td>0.000000</td>\n",
       "      <td>0.647456</td>\n",
       "      <td>3.000000</td>\n",
       "      <td>7.000000</td>\n",
       "      <td>0.500786</td>\n",
       "      <td>0.000000</td>\n",
       "      <td>184.628796</td>\n",
       "    </tr>\n",
       "    <tr>\n",
       "      <th>75%</th>\n",
       "      <td>0.000000</td>\n",
       "      <td>0.708379</td>\n",
       "      <td>4.000000</td>\n",
       "      <td>8.000000</td>\n",
       "      <td>0.622607</td>\n",
       "      <td>0.000000</td>\n",
       "      <td>187.728708</td>\n",
       "    </tr>\n",
       "    <tr>\n",
       "      <th>max</th>\n",
       "      <td>1.000000</td>\n",
       "      <td>1.000000</td>\n",
       "      <td>5.000000</td>\n",
       "      <td>12.000000</td>\n",
       "      <td>1.000000</td>\n",
       "      <td>1.000000</td>\n",
       "      <td>200.861656</td>\n",
       "    </tr>\n",
       "  </tbody>\n",
       "</table>\n",
       "</div>"
      ],
      "text/plain": [
       "          promoted       review     projects       tenure  satisfaction  \\\n",
       "count  9540.000000  9540.000000  9540.000000  9540.000000   9540.000000   \n",
       "mean      0.030294     0.651826     3.274843     6.556184      0.504645   \n",
       "std       0.171403     0.085307     0.579136     1.415432      0.158555   \n",
       "min       0.000000     0.310000     2.000000     2.000000      0.000000   \n",
       "25%       0.000000     0.592884     3.000000     5.000000      0.386801   \n",
       "50%       0.000000     0.647456     3.000000     7.000000      0.500786   \n",
       "75%       0.000000     0.708379     4.000000     8.000000      0.622607   \n",
       "max       1.000000     1.000000     5.000000    12.000000      1.000000   \n",
       "\n",
       "             bonus  avg_hrs_month  \n",
       "count  9540.000000    9540.000000  \n",
       "mean      0.212055     184.661571  \n",
       "std       0.408785       4.144831  \n",
       "min       0.000000     171.374060  \n",
       "25%       0.000000     181.472085  \n",
       "50%       0.000000     184.628796  \n",
       "75%       0.000000     187.728708  \n",
       "max       1.000000     200.861656  "
      ]
     },
     "execution_count": 22,
     "metadata": {},
     "output_type": "execute_result"
    }
   ],
   "source": [
    "df.describe()"
   ]
  },
  {
   "cell_type": "code",
   "execution_count": 23,
   "metadata": {},
   "outputs": [
    {
     "name": "stdout",
     "output_type": "stream",
     "text": [
      "<class 'pandas.core.frame.DataFrame'>\n",
      "RangeIndex: 9540 entries, 0 to 9539\n",
      "Data columns (total 10 columns):\n",
      " #   Column         Non-Null Count  Dtype  \n",
      "---  ------         --------------  -----  \n",
      " 0   department     9540 non-null   object \n",
      " 1   promoted       9540 non-null   int64  \n",
      " 2   review         9540 non-null   float64\n",
      " 3   projects       9540 non-null   int64  \n",
      " 4   salary         9540 non-null   object \n",
      " 5   tenure         9540 non-null   float64\n",
      " 6   satisfaction   9540 non-null   float64\n",
      " 7   bonus          9540 non-null   int64  \n",
      " 8   avg_hrs_month  9540 non-null   float64\n",
      " 9   left           9540 non-null   object \n",
      "dtypes: float64(4), int64(3), object(3)\n",
      "memory usage: 745.4+ KB\n"
     ]
    }
   ],
   "source": [
    "df.info()"
   ]
  },
  {
   "cell_type": "markdown",
   "metadata": {},
   "source": [
    "## Exploring and Transforming Data"
   ]
  },
  {
   "cell_type": "code",
   "execution_count": 24,
   "metadata": {},
   "outputs": [
    {
     "data": {
      "text/plain": [
       "<AxesSubplot:>"
      ]
     },
     "execution_count": 24,
     "metadata": {},
     "output_type": "execute_result"
    },
    {
     "data": {
      "image/png": "[encoded data removed]",
      "text/plain": [
       "<Figure size 432x288 with 1 Axes>"
      ]
     },
     "metadata": {
      "needs_background": "light"
     },
     "output_type": "display_data"
    }
   ],
   "source": [
    "##Display bar graph of churn\n",
    "df.left.value_counts().plot(kind='bar')"
   ]
  },
  {
   "cell_type": "code",
   "execution_count": 25,
   "metadata": {},
   "outputs": [
    {
     "data": {
      "text/plain": [
       "<AxesSubplot:ylabel='department'>"
      ]
     },
     "execution_count": 25,
     "metadata": {},
     "output_type": "execute_result"
    },
    {
     "data": {
      "image/png": "[encoded data removed]",
      "text/plain": [
       "<Figure size 432x288 with 1 Axes>"
      ]
     },
     "metadata": {
      "needs_background": "light"
     },
     "output_type": "display_data"
    }
   ],
   "source": [
    "#Calculate churn rates by department\n",
    "left_df = df.loc[df.left == 'yes',:]\n",
    "churn_rates = left_df.groupby('department').left.value_counts()/df.groupby('department').left.value_counts().sum()\n",
    "\n",
    "#order churn rates descending\n",
    "churn_rates = churn_rates.sort_values(ascending=False)\n",
    "\n",
    "new_index = []\n",
    "for i in range(len(churn_rates.index)):\n",
    "    #append department name to index in correct order\n",
    "    new_index.append(churn_rates.index[i][0])\n",
    "\n",
    "#Create dataframe with churn rates and departments\n",
    "churn_df = pd.DataFrame({'department': new_index, 'churn_rate': churn_rates.values})\n",
    "\n",
    "#Plot horizontal bar chart of churn rates by department\n",
    "churn_df.plot(kind='barh', x='department', y='churn_rate', legend=False)"
   ]
  },
  {
   "cell_type": "code",
   "execution_count": 26,
   "metadata": {},
   "outputs": [
    {
     "data": {
      "text/html": [
       "<div>\n",
       "<style scoped>\n",
       "    .dataframe tbody tr th:only-of-type {\n",
       "        vertical-align: middle;\n",
       "    }\n",
       "\n",
       "    .dataframe tbody tr th {\n",
       "        vertical-align: top;\n",
       "    }\n",
       "\n",
       "    .dataframe thead th {\n",
       "        text-align: right;\n",
       "    }\n",
       "</style>\n",
       "<table border=\"1\" class=\"dataframe\">\n",
       "  <thead>\n",
       "    <tr style=\"text-align: right;\">\n",
       "      <th></th>\n",
       "      <th>department</th>\n",
       "      <th>churn_rate</th>\n",
       "      <th>promoted</th>\n",
       "      <th>review</th>\n",
       "      <th>projects</th>\n",
       "      <th>tenure</th>\n",
       "      <th>satisfaction</th>\n",
       "      <th>bonus</th>\n",
       "      <th>avg_hrs_month</th>\n",
       "    </tr>\n",
       "  </thead>\n",
       "  <tbody>\n",
       "    <tr>\n",
       "      <th>0</th>\n",
       "      <td>sales</td>\n",
       "      <td>0.056289</td>\n",
       "      <td>0.026553</td>\n",
       "      <td>0.651631</td>\n",
       "      <td>3.286245</td>\n",
       "      <td>6.535847</td>\n",
       "      <td>0.504520</td>\n",
       "      <td>0.211896</td>\n",
       "      <td>184.616739</td>\n",
       "    </tr>\n",
       "    <tr>\n",
       "      <th>1</th>\n",
       "      <td>retail</td>\n",
       "      <td>0.049371</td>\n",
       "      <td>0.033744</td>\n",
       "      <td>0.650152</td>\n",
       "      <td>3.266061</td>\n",
       "      <td>6.591175</td>\n",
       "      <td>0.502769</td>\n",
       "      <td>0.218689</td>\n",
       "      <td>184.735075</td>\n",
       "    </tr>\n",
       "    <tr>\n",
       "      <th>2</th>\n",
       "      <td>engineering</td>\n",
       "      <td>0.045807</td>\n",
       "      <td>0.023087</td>\n",
       "      <td>0.650601</td>\n",
       "      <td>3.263852</td>\n",
       "      <td>6.558047</td>\n",
       "      <td>0.504944</td>\n",
       "      <td>0.211082</td>\n",
       "      <td>184.691962</td>\n",
       "    </tr>\n",
       "    <tr>\n",
       "      <th>3</th>\n",
       "      <td>operations</td>\n",
       "      <td>0.045702</td>\n",
       "      <td>0.029566</td>\n",
       "      <td>0.653397</td>\n",
       "      <td>3.271353</td>\n",
       "      <td>6.608410</td>\n",
       "      <td>0.504620</td>\n",
       "      <td>0.206965</td>\n",
       "      <td>184.812006</td>\n",
       "    </tr>\n",
       "    <tr>\n",
       "      <th>4</th>\n",
       "      <td>marketing</td>\n",
       "      <td>0.025472</td>\n",
       "      <td>0.042394</td>\n",
       "      <td>0.657694</td>\n",
       "      <td>3.280549</td>\n",
       "      <td>6.503741</td>\n",
       "      <td>0.502411</td>\n",
       "      <td>0.219451</td>\n",
       "      <td>184.469963</td>\n",
       "    </tr>\n",
       "    <tr>\n",
       "      <th>5</th>\n",
       "      <td>support</td>\n",
       "      <td>0.022222</td>\n",
       "      <td>0.031293</td>\n",
       "      <td>0.650467</td>\n",
       "      <td>3.268027</td>\n",
       "      <td>6.564626</td>\n",
       "      <td>0.506579</td>\n",
       "      <td>0.204082</td>\n",
       "      <td>184.642816</td>\n",
       "    </tr>\n",
       "    <tr>\n",
       "      <th>6</th>\n",
       "      <td>admin</td>\n",
       "      <td>0.012474</td>\n",
       "      <td>0.037825</td>\n",
       "      <td>0.647086</td>\n",
       "      <td>3.278960</td>\n",
       "      <td>6.498818</td>\n",
       "      <td>0.519444</td>\n",
       "      <td>0.186761</td>\n",
       "      <td>184.538120</td>\n",
       "    </tr>\n",
       "    <tr>\n",
       "      <th>7</th>\n",
       "      <td>logistics</td>\n",
       "      <td>0.011635</td>\n",
       "      <td>0.019444</td>\n",
       "      <td>0.654374</td>\n",
       "      <td>3.275000</td>\n",
       "      <td>6.527778</td>\n",
       "      <td>0.493084</td>\n",
       "      <td>0.208333</td>\n",
       "      <td>184.589924</td>\n",
       "    </tr>\n",
       "    <tr>\n",
       "      <th>8</th>\n",
       "      <td>IT</td>\n",
       "      <td>0.011530</td>\n",
       "      <td>0.022472</td>\n",
       "      <td>0.647746</td>\n",
       "      <td>3.289326</td>\n",
       "      <td>6.609551</td>\n",
       "      <td>0.515818</td>\n",
       "      <td>0.221910</td>\n",
       "      <td>184.820946</td>\n",
       "    </tr>\n",
       "    <tr>\n",
       "      <th>9</th>\n",
       "      <td>finance</td>\n",
       "      <td>0.011321</td>\n",
       "      <td>0.047264</td>\n",
       "      <td>0.654934</td>\n",
       "      <td>3.293532</td>\n",
       "      <td>6.440299</td>\n",
       "      <td>0.497183</td>\n",
       "      <td>0.231343</td>\n",
       "      <td>184.375116</td>\n",
       "    </tr>\n",
       "  </tbody>\n",
       "</table>\n",
       "</div>"
      ],
      "text/plain": [
       "    department  churn_rate  promoted    review  projects    tenure  \\\n",
       "0        sales    0.056289  0.026553  0.651631  3.286245  6.535847   \n",
       "1       retail    0.049371  0.033744  0.650152  3.266061  6.591175   \n",
       "2  engineering    0.045807  0.023087  0.650601  3.263852  6.558047   \n",
       "3   operations    0.045702  0.029566  0.653397  3.271353  6.608410   \n",
       "4    marketing    0.025472  0.042394  0.657694  3.280549  6.503741   \n",
       "5      support    0.022222  0.031293  0.650467  3.268027  6.564626   \n",
       "6        admin    0.012474  0.037825  0.647086  3.278960  6.498818   \n",
       "7    logistics    0.011635  0.019444  0.654374  3.275000  6.527778   \n",
       "8           IT    0.011530  0.022472  0.647746  3.289326  6.609551   \n",
       "9      finance    0.011321  0.047264  0.654934  3.293532  6.440299   \n",
       "\n",
       "   satisfaction     bonus  avg_hrs_month  \n",
       "0      0.504520  0.211896     184.616739  \n",
       "1      0.502769  0.218689     184.735075  \n",
       "2      0.504944  0.211082     184.691962  \n",
       "3      0.504620  0.206965     184.812006  \n",
       "4      0.502411  0.219451     184.469963  \n",
       "5      0.506579  0.204082     184.642816  \n",
       "6      0.519444  0.186761     184.538120  \n",
       "7      0.493084  0.208333     184.589924  \n",
       "8      0.515818  0.221910     184.820946  \n",
       "9      0.497183  0.231343     184.375116  "
      ]
     },
     "execution_count": 26,
     "metadata": {},
     "output_type": "execute_result"
    }
   ],
   "source": [
    "#Mean promoted employees by department\n",
    "mean_df = df.groupby('department').mean()\n",
    "\n",
    "#Add promoted mean to churn dataframe\n",
    "churn_df = pd.merge(churn_df, mean_df, on='department', how='left')\n",
    "churn_df"
   ]
  },
  {
   "cell_type": "code",
   "execution_count": 19,
   "metadata": {},
   "outputs": [
    {
     "data": {
      "text/plain": [
       "<AxesSubplot:>"
      ]
     },
     "execution_count": 19,
     "metadata": {},
     "output_type": "execute_result"
    },
    {
     "data": {
      "image/png": "[encoded data removed]",
      "text/plain": [
       "<Figure size 432x288 with 1 Axes>"
      ]
     },
     "metadata": {
      "needs_background": "light"
     },
     "output_type": "display_data"
    }
   ],
   "source": [
    "#Plot correlation matrix of churn rates and mean variables by department\n",
    "churn_df.corr()['churn_rate'][1:len(churn_df)].plot(kind='bar')"
   ]
  }
 ],
 "metadata": {
  "interpreter": {
   "hash": "f01d6bb513a73ce4b775510d541ec6cf5febaa74c2d75b7f6dfc7cf80c0894c8"
  },
  "kernelspec": {
   "display_name": "Python 3.9.6 64-bit",
   "language": "python",
   "name": "python3"
  },
  "language_info": {
   "codemirror_mode": {
    "name": "ipython",
    "version": 3
   },
   "file_extension": ".py",
   "mimetype": "text/x-python",
   "name": "python",
   "nbconvert_exporter": "python",
   "pygments_lexer": "ipython3",
   "version": "3.8.8"
  },
  "orig_nbformat": 4
 },
 "nbformat": 4,
 "nbformat_minor": 2
}
